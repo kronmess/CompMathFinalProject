{
 "cells": [
  {
   "cell_type": "markdown",
   "metadata": {},
   "source": [
    "# Numerical Integration\n",
    "Numerical Integration is composed of a family of algorithms used to calculate the numerical value of a definite integral. Here we have 3 such algorithms which we were taught, Gaussian Quadrature , Simpson's Rule and the Trapezoidal Rule. We use each one to find the approximate value of each integral and then plot the graph of each one."
   ]
  },
  {
   "cell_type": "markdown",
   "metadata": {},
   "source": [
    "# Group Members :\n",
    "Vincentius Gabriel Tandra 2301894804\n",
    "\n",
    "Bently Edyson 2301900321\n",
    "\n",
    "Nicholas Audley  2301894590\n"
   ]
  },
  {
   "cell_type": "code",
   "execution_count": 25,
   "metadata": {},
   "outputs": [],
   "source": [
    "from math import sin,pi,cos,tan,sqrt\n",
    "import ipywidgets as widgets\n",
    "import matplotlib.pyplot as plt\n",
    "import numpy as np\n"
   ]
  },
  {
   "cell_type": "markdown",
   "metadata": {},
   "source": [
    "# Gaussian Quadrature"
   ]
  },
  {
   "cell_type": "markdown",
   "metadata": {},
   "source": [
    "Equation for Gaussian: $\\int_{a}^{b}{f\\left(x\\right)dx\\ }\\approx\\ \\frac{b\\ -\\ a}{2} \\sum_{i=0}^{n}Ai\\ f\\left(xi\\right)$\n",
    "<br> Function of x : $\\int_{0}^{\\pi/2}{(8\\ +\\ 4\\cos{x)}dx\\ }$\n",
    "<br> To obtain Ai and xi : $ x\\ =\\ \\frac{b\\ +\\ a}{2}\\ +\\ \\frac{b\\ -\\ a\\ }{2}\\ $"
   ]
  },
  {
   "cell_type": "code",
   "execution_count": 35,
   "metadata": {},
   "outputs": [
    {
     "data": {
      "application/vnd.jupyter.widget-view+json": {
       "model_id": "be3a7b6c885f4a029f7f88a944a5dd14",
       "version_major": 2,
       "version_minor": 0
      },
      "text/plain": [
       "Button(description='Gaussian', style=ButtonStyle())"
      ]
     },
     "metadata": {},
     "output_type": "display_data"
    }
   ],
   "source": [
    "f = lambda x : 8 + (4 * cos(x))\n",
    "\n",
    "a = 0\n",
    "b = pi/2\n",
    "c1 = (b-a)/2\n",
    "c2 = (b-a)/2\n",
    "x1 = ((((b-a)/2) * (-1/sqrt(3))) + ((b+a)/2))\n",
    "x2 = ((((b-a)/2) * (1/sqrt(3))) + ((b+a)/2))\n",
    "\n",
    "# Gaussian\n",
    "def gaussian():\n",
    "    return ((c1 * f(x1)) + (c2 * f(x2)))\n",
    "\n",
    "# Line of f(x)\n",
    "x = np.arange(0,np.pi,0.1)\n",
    "y = 8 + (4 * np.cos(x))\n",
    "\n",
    "button = widgets.Button(description=\"Gaussian\")\n",
    "display(button)\n",
    "\n",
    "def fun1():\n",
    "    print(\"Actual Value: 16.56637061435917\")\n",
    "    print(\"Gaussian 2-Point: \" + str(gaussian()))\n",
    "# Approx Area. using Gaussian 2-Point\n",
    "    xg = np.linspace(x1, x2)\n",
    "    yg = np.linspace(f(x1),f(x2))\n",
    "    plt.plot(xg,yg)\n",
    "    plt.plot(x,y)\n",
    "    plt.fill_between(xg,yg,color = 'cyan') #Area\n",
    "    plt.show()\n",
    "\n",
    "\n",
    "def on_button_clicked(b):\n",
    "    fun1()\n",
    "    \n",
    "button.on_click(on_button_clicked)\n"
   ]
  },
  {
   "cell_type": "markdown",
   "metadata": {},
   "source": [
    "# Simpson's Rule"
   ]
  },
  {
   "cell_type": "markdown",
   "metadata": {},
   "source": [
    "Equation for Gaussian: $\\int_{a}^{b}{f\\left(x\\right)dx\\ \\approx\\ I}\\ =[(x_\\mathrm{0})\\ +\\ 4f(x_1)\\ +\\ 2f(x_2)\\ +\\ 4f(x_3)+\\ .\\ ..\\ +\\ ...\\ +\\ 2f(x_{n-2})\\ +\\ 4\\ f(x_{n-1})\\ +\\ f(x_n)]\\frac{h}{3}$\n",
    "<br> Function of x: $\\int_{0}^{\\pi/2}{(8\\ +\\ 4\\cos{x)}dx\\ }$"
   ]
  },
  {
   "cell_type": "code",
   "execution_count": 36,
   "metadata": {},
   "outputs": [
    {
     "name": "stdout",
     "output_type": "stream",
     "text": [
      "16.575490124328013\n"
     ]
    },
    {
     "data": {
      "application/vnd.jupyter.widget-view+json": {
       "model_id": "adb4f22f879b4fbd82ddbd79250a7899",
       "version_major": 2,
       "version_minor": 0
      },
      "text/plain": [
       "Button(description='Simpson', style=ButtonStyle())"
      ]
     },
     "metadata": {},
     "output_type": "display_data"
    }
   ],
   "source": [
    "sum1 = 0.0\n",
    "sum2 = 0.0\n",
    "#upper bound\n",
    "a = 0\n",
    "#lower bound\n",
    "b = pi/2\n",
    "#number of terms\n",
    "n = 2\n",
    "#value of delta x\n",
    "h = (b-a)/n\n",
    "f = lambda x: 8 + 4 * cos(x)\n",
    "def simpson(sum1,sum2,a,b,n,h):\n",
    "    for i in range(1,n,2):\n",
    "        x = a + i *h \n",
    "        sum1 = sum1 + f(x)\n",
    "    for i in range(2,n-1,2):\n",
    "        x = a +  i * h\n",
    "        sum2 = sum2 + f(x)\n",
    "    simpson = h * (f(a)+ 4* sum1 + 2*sum2+f(b))/3\n",
    "    return simpson\n",
    "\n",
    "print(simpson(sum1,sum2,a,b,n,h))\n",
    "simpson_array = []\n",
    "\n",
    "button = widgets.Button(description=\"Simpson\")\n",
    "display(button)\n",
    "\n",
    "def fun2():\n",
    "    print(simpson(sum1,sum2,a,b,n,h))\n",
    "    for i in range(2,12):\n",
    "        simpson_array.append(simpson(sum1,sum2,a,b,i,h))\n",
    "    \n",
    "    x = np.linspace(0, 10, 10)\n",
    "    y = simpson_array\n",
    "    fig = plt.figure(1); plt.clf()\n",
    "    ax2 = fig.add_subplot(2,2,2)\n",
    "    ax2.plot(x,y,'-o')\n",
    "\n",
    "\n",
    "def on_button_clicked(b):\n",
    "    fun2()\n",
    "    \n",
    "button.on_click(on_button_clicked)\n",
    "\n",
    "\n",
    "#actual value is 16.56637061435917"
   ]
  },
  {
   "cell_type": "markdown",
   "metadata": {},
   "source": [
    "# Trapezoidal Rule"
   ]
  },
  {
   "cell_type": "markdown",
   "metadata": {},
   "source": [
    "Equation for Trapezoidal : $I = \\sum_{i=0}^{n-1} Ii \\ = [f\\left(x_0\\right)\\ +\\ 2f\\left(x_1\\right)\\ +\\ 2f\\left(x_2\\right)\\ +\\ ...\\ +\\ 2f\\left(x_{n-1}\\right)\\ +f\\left(x_n\\right)]\\frac{h}{2} $\n",
    "<br> Function of x : $\\int_{0}^{\\pi/2}{(8\\ +\\ 4\\cos{x)}dx\\ }$   "
   ]
  },
  {
   "cell_type": "code",
   "execution_count": 37,
   "metadata": {},
   "outputs": [
    {
     "data": {
      "application/vnd.jupyter.widget-view+json": {
       "model_id": "6331bc22eb564c3e90895bc9ee454d18",
       "version_major": 2,
       "version_minor": 0
      },
      "text/plain": [
       "Button(description='Graph of Area', style=ButtonStyle())"
      ]
     },
     "metadata": {},
     "output_type": "display_data"
    }
   ],
   "source": [
    "f = lambda x: 8 + 4 * cos(x)\n",
    "a = 0\n",
    "b = pi/2\n",
    "n = 2\n",
    "h = (b-a)/n\n",
    "def trapezoid(a: float, b: float, n: int) -> float:\n",
    "    result: float = f(a) + f(b)\n",
    "    h: int = (b - a)/n\n",
    "\n",
    "    for i in range(n - 1):\n",
    "        result += f(a + (h * (1 + i))) * 2\n",
    "\n",
    "    result = result * h/2\n",
    "\n",
    "    return result\n",
    "\n",
    "trapezoidal_array = []\n",
    "\n",
    "button = widgets.Button(description=\"Graph of Area\")\n",
    "display(button)\n",
    "\n",
    "def fun3():\n",
    "    print(trapezoid(0, pi/2, 10))\n",
    "    for i in range(2,12):\n",
    "        trapezoidal_array.append(trapezoid(0, pi/2, i))\n",
    "    \n",
    "    plt.figure(figsize=(12,7))\n",
    "    x = np.linspace(0, 10, 10)\n",
    "    y = trapezoidal_array\n",
    "    fig = plt.figure(1); plt.clf()\n",
    "    ax2 = fig.add_subplot(2,2,2)\n",
    "    plt.xlabel(\"n\")\n",
    "    plt.ylabel(\"Approximated Values\")\n",
    "    ax2.plot(x,y,'-o')\n",
    "\n",
    "def on_button_clicked(b):\n",
    "    fun3()\n",
    "    \n",
    "button.on_click(on_button_clicked)\n",
    "\n",
    "#actual value is 16.56637061435917"
   ]
  },
  {
   "cell_type": "code",
   "execution_count": 38,
   "metadata": {},
   "outputs": [
    {
     "data": {
      "application/vnd.jupyter.widget-view+json": {
       "model_id": "41d048002c5949ffb67d7705896e5fdb",
       "version_major": 2,
       "version_minor": 0
      },
      "text/plain": [
       "Button(description='Graph of Error', style=ButtonStyle())"
      ]
     },
     "metadata": {},
     "output_type": "display_data"
    }
   ],
   "source": [
    "def f(x):\n",
    "    return 8 + 4 * cos(x)\n",
    "\n",
    "def exact(x):\n",
    "    return 8 * x + 4 * sin(x)\n",
    "\n",
    "def trap(a,b,n):\n",
    "    h = (b-a) / (n-1)\n",
    "    sam_trap = (f(a) + f(b)) / 2\n",
    "    for i in range (1,n-1):\n",
    "        sam_trap += f(a+(i*h))\n",
    "    sam_trap *= h\n",
    "    return(sam_trap)\n",
    "\n",
    "a = 0 \n",
    "b = pi/2\n",
    "n = 10\n",
    "exact_sum = exact(b) - exact (a)\n",
    "#empty list to append all my values\n",
    "Et = []\n",
    "It = []\n",
    "\n",
    "button = widgets.Button(description=\"Graph of Error\")\n",
    "display(button)\n",
    "\n",
    "def fun4():\n",
    "    print(\"N\", \"\\t\", \"Trapezoid Area\", \"\\t\", \"Relative Error\", \"\\n\")\n",
    "    for j in range (2,n):\n",
    "        err_x = abs((trap(a,b,j) - exact_sum) / exact_sum)\n",
    "        Et.append(err_x)\n",
    "        It.append(j)\n",
    "        print(j,\"\\t\", trap(a,b,j), \"\\t\", err_x)\n",
    "\n",
    "    print(\"\\nThe exact Area is = \", exact_sum)\n",
    "    plt.figure(figsize=(12,7))\n",
    "    plt.plot(It,Et)\n",
    "    plt.xlabel(\"n\")\n",
    "    plt.ylabel(\"Relative errors\")\n",
    "    plt.grid()\n",
    "    plt.show()\n",
    "\n",
    "def on_button_clicked(b):\n",
    "    fun4()\n",
    "    \n",
    "button.on_click(on_button_clicked)\n",
    "\n"
   ]
  }
 ],
 "metadata": {
  "kernelspec": {
   "display_name": "Python 3",
   "language": "python",
   "name": "python3"
  },
  "language_info": {
   "codemirror_mode": {
    "name": "ipython",
    "version": 3
   },
   "file_extension": ".py",
   "mimetype": "text/x-python",
   "name": "python",
   "nbconvert_exporter": "python",
   "pygments_lexer": "ipython3",
   "version": "3.7.4"
  }
 },
 "nbformat": 4,
 "nbformat_minor": 2
}
